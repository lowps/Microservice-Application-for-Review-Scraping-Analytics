{
 "cells": [
  {
   "cell_type": "code",
   "execution_count": 1,
   "id": "865fb8fd",
   "metadata": {},
   "outputs": [],
   "source": [
    "import os\n",
    "import sys\n"
   ]
  },
  {
   "cell_type": "code",
   "execution_count": 2,
   "id": "e4035df3",
   "metadata": {},
   "outputs": [],
   "source": [
    "path = os.path.dirname(os.path.dirname(os.getcwd()))\n",
    "sys.path.insert(0, path)"
   ]
  },
  {
   "cell_type": "code",
   "execution_count": 3,
   "id": "d0e8c598-6cdb-4432-8faa-dd5d1e2093ce",
   "metadata": {},
   "outputs": [
    {
     "name": "stdout",
     "output_type": "stream",
     "text": [
      "/Users/ericklopez/Desktop/django_gun/empirical\n"
     ]
    }
   ],
   "source": [
    "print(path)"
   ]
  },
  {
   "cell_type": "code",
   "execution_count": 4,
   "id": "9178b8aa-a1aa-4613-827d-2c77fd4e6579",
   "metadata": {},
   "outputs": [
    {
     "name": "stdout",
     "output_type": "stream",
     "text": [
      "['/Users/ericklopez/Desktop/django_gun/empirical', '/Library/Frameworks/Python.framework/Versions/3.10/lib/python310.zip', '/Library/Frameworks/Python.framework/Versions/3.10/lib/python3.10', '/Library/Frameworks/Python.framework/Versions/3.10/lib/python3.10/lib-dynload', '', '/Users/ericklopez/Desktop/django_gun/venv/lib/python3.10/site-packages']\n"
     ]
    }
   ],
   "source": [
    "print(sys.path)"
   ]
  },
  {
   "cell_type": "code",
   "execution_count": 6,
   "id": "792bdb41-c805-4b28-8c7b-0758a4c7b213",
   "metadata": {},
   "outputs": [],
   "source": [
    "from a_sourceCode.i_web_scraper import *\n",
    "from a_sourceCode.ii_stage_data import *"
   ]
  },
  {
   "cell_type": "code",
   "execution_count": 7,
   "id": "d68a092a-411e-4852-a732-1a2dbf5d97b2",
   "metadata": {},
   "outputs": [],
   "source": [
    "url = 'https://www.google.com/maps/place/Starbucks/@27.1766364,-80.2361734,17z/data=!3m1!4b1!4m6!3m5!1s0x88dedd0918e3e28f:0x134439fc65084c8!8m2!3d27.1766364!4d-80.2361734!16s%2Fg%2F1vpq7q20?authuser=0&hl=en&entry=ttu&g_ep=EgoyMDI0MTExOS4yIKXMDSoJLDEwMjExMjM0SAFQAw%3D%3D'"
   ]
  },
  {
   "cell_type": "code",
   "execution_count": 8,
   "id": "00b41b28-59bd-47ba-a545-2f92f2a9ae4b",
   "metadata": {},
   "outputs": [
    {
     "name": "stdout",
     "output_type": "stream",
     "text": [
      "location data found!\n",
      "Reivew button clicked!\n",
      "Reached the end of the scrollable content.\n"
     ]
    }
   ],
   "source": [
    "target, location = scrape(url, verify_url='google.com/maps/place/Starbucks')\n"
   ]
  },
  {
   "cell_type": "code",
   "execution_count": 9,
   "id": "57d75939-c639-49bd-b5df-9bc27ce6ed8a",
   "metadata": {},
   "outputs": [
    {
     "name": "stdout",
     "output_type": "stream",
     "text": [
      "Total comments parsed 188\n"
     ]
    }
   ],
   "source": [
    "target1, target2 = parse_data_to_list(target)\n"
   ]
  },
  {
   "cell_type": "code",
   "execution_count": 10,
   "id": "cf67a19d-7a5b-4b80-a38c-f4516c8375f2",
   "metadata": {},
   "outputs": [],
   "source": [
    "combined_data = list_to_dict(target1, target2, location)\n"
   ]
  },
  {
   "cell_type": "code",
   "execution_count": 13,
   "id": "cbf57e48-de36-4f44-b40d-8030e694a070",
   "metadata": {},
   "outputs": [],
   "source": [
    "file_path = '/Users/ericklopez/Desktop/django_gun/empirical/data/raw/raw_sb1.csv'\n"
   ]
  },
  {
   "cell_type": "code",
   "execution_count": 14,
   "id": "9a9c66b7-2f9f-4da4-9fc8-0cc4c0a93b30",
   "metadata": {},
   "outputs": [
    {
     "name": "stderr",
     "output_type": "stream",
     "text": [
      "INFO: 2024-12-28 18:41:22,838 from empirical/a_sourceCode: 73925: save_dict_to_csv: 45: Succesfully saved CSV file.\n",
      "INFO: 2024-12-28 18:41:22,838 from empirical/a_sourceCode: 73925: save_dict_to_csv: 45: Succesfully saved CSV file.\n"
     ]
    },
    {
     "name": "stdout",
     "output_type": "stream",
     "text": [
      "Data has been written to /Users/ericklopez/Desktop/django_gun/empirical/data/raw/raw_sb1.csv\n"
     ]
    }
   ],
   "source": [
    "csv = save_dict_to_csv(combined_data, file_path)"
   ]
  },
  {
   "cell_type": "code",
   "execution_count": null,
   "id": "e5f8d216-0714-4d8f-b0b2-3d6b259d7b65",
   "metadata": {},
   "outputs": [],
   "source": []
  }
 ],
 "metadata": {
  "kernelspec": {
   "display_name": "Python 3 (ipykernel)",
   "language": "python",
   "name": "python3"
  },
  "language_info": {
   "codemirror_mode": {
    "name": "ipython",
    "version": 3
   },
   "file_extension": ".py",
   "mimetype": "text/x-python",
   "name": "python",
   "nbconvert_exporter": "python",
   "pygments_lexer": "ipython3",
   "version": "3.10.4"
  }
 },
 "nbformat": 4,
 "nbformat_minor": 5
}
