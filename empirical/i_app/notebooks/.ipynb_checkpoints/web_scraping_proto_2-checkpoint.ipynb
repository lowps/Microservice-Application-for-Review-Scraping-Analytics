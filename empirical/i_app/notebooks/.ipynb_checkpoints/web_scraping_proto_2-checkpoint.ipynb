{
 "cells": [
  {
   "cell_type": "code",
   "execution_count": 1,
   "id": "0452b3eb-48e4-4ef8-ab80-0a09ddfad336",
   "metadata": {},
   "outputs": [],
   "source": [
    "import os \n",
    "import sys\n",
    "import pandas as pd\n",
    "import numpy as np"
   ]
  },
  {
   "cell_type": "code",
   "execution_count": 2,
   "id": "9959e0ff-39ef-4af3-bfc2-c6bcb227b4ae",
   "metadata": {},
   "outputs": [],
   "source": [
    "path = os.path.dirname(os.path.dirname(os.getcwd()))\n",
    "sys.path.insert(0, path)"
   ]
  },
  {
   "cell_type": "code",
   "execution_count": 3,
   "id": "52235b46-cbe8-4823-adef-237de637b3f0",
   "metadata": {},
   "outputs": [],
   "source": [
    "from a_sourceCode.iii_data_pre_processing import *"
   ]
  },
  {
   "cell_type": "code",
   "execution_count": 4,
   "id": "d77f23dc-74e7-4c9e-b91a-3a266590d8c0",
   "metadata": {},
   "outputs": [],
   "source": [
    "data_path = \"/Users/ericklopez/Desktop/django_gun/empirical/data/raw/raw_sb1.csv\"\n",
    "# abs_path = '/Users/ericklopez/Desktop/django_gun/empirical/data/processed/"
   ]
  },
  {
   "cell_type": "code",
   "execution_count": 5,
   "id": "86384e2f-030b-4646-b305-c65927f5caad",
   "metadata": {},
   "outputs": [],
   "source": [
    "df = pd.read_csv(data_path)"
   ]
  },
  {
   "cell_type": "code",
   "execution_count": 6,
   "id": "1783aaf4-9c21-4960-9d15-18bf94f2468e",
   "metadata": {},
   "outputs": [],
   "source": [
    "df_cp = df.copy()"
   ]
  },
  {
   "cell_type": "code",
   "execution_count": 7,
   "id": "e5bfd3d1-175b-4c47-9e5d-98e21cc1c2cd",
   "metadata": {},
   "outputs": [
    {
     "data": {
      "text/plain": [
       "4527892336"
      ]
     },
     "execution_count": 7,
     "metadata": {},
     "output_type": "execute_result"
    }
   ],
   "source": [
    "id(df)"
   ]
  },
  {
   "cell_type": "code",
   "execution_count": 8,
   "id": "29203f74-a6c3-4d5c-817b-c3501e8a2d74",
   "metadata": {},
   "outputs": [
    {
     "data": {
      "text/plain": [
       "4793782320"
      ]
     },
     "execution_count": 8,
     "metadata": {},
     "output_type": "execute_result"
    }
   ],
   "source": [
    "id(df_cp)"
   ]
  },
  {
   "cell_type": "code",
   "execution_count": 18,
   "id": "3e3d0be8-6947-4fce-8769-193b5d19671a",
   "metadata": {},
   "outputs": [
    {
     "data": {
      "text/html": [
       "<div>\n",
       "<style scoped>\n",
       "    .dataframe tbody tr th:only-of-type {\n",
       "        vertical-align: middle;\n",
       "    }\n",
       "\n",
       "    .dataframe tbody tr th {\n",
       "        vertical-align: top;\n",
       "    }\n",
       "\n",
       "    .dataframe thead th {\n",
       "        text-align: right;\n",
       "    }\n",
       "</style>\n",
       "<table border=\"1\" class=\"dataframe\">\n",
       "  <thead>\n",
       "    <tr style=\"text-align: right;\">\n",
       "      <th></th>\n",
       "      <th>review</th>\n",
       "      <th>rating</th>\n",
       "      <th>address</th>\n",
       "    </tr>\n",
       "  </thead>\n",
       "  <tbody>\n",
       "    <tr>\n",
       "      <th>25</th>\n",
       "      <td>The entire team was friendly and courteous. Th...</td>\n",
       "      <td>4 stars</td>\n",
       "      <td>2294 SE Federal Hwy, Stuart, FL 34994</td>\n",
       "    </tr>\n",
       "    <tr>\n",
       "      <th>38</th>\n",
       "      <td>Service with a smile.  Candy was so attentive ...</td>\n",
       "      <td>4 stars</td>\n",
       "      <td>2294 SE Federal Hwy, Stuart, FL 34994</td>\n",
       "    </tr>\n",
       "    <tr>\n",
       "      <th>41</th>\n",
       "      <td>Love the team here! The only thing keeping thi...</td>\n",
       "      <td>4 stars</td>\n",
       "      <td>2294 SE Federal Hwy, Stuart, FL 34994</td>\n",
       "    </tr>\n",
       "    <tr>\n",
       "      <th>54</th>\n",
       "      <td>The staff was a little sassy but verry friendl...</td>\n",
       "      <td>4 stars</td>\n",
       "      <td>2294 SE Federal Hwy, Stuart, FL 34994</td>\n",
       "    </tr>\n",
       "    <tr>\n",
       "      <th>83</th>\n",
       "      <td>Always amazing! If you haven't tried the chest...</td>\n",
       "      <td>4 stars</td>\n",
       "      <td>2294 SE Federal Hwy, Stuart, FL 34994</td>\n",
       "    </tr>\n",
       "    <tr>\n",
       "      <th>89</th>\n",
       "      <td>Good place just make sure they hear your order...</td>\n",
       "      <td>4 stars</td>\n",
       "      <td>2294 SE Federal Hwy, Stuart, FL 34994</td>\n",
       "    </tr>\n",
       "    <tr>\n",
       "      <th>93</th>\n",
       "      <td>Very friendly and happy welcoming polite emplo...</td>\n",
       "      <td>4 stars</td>\n",
       "      <td>2294 SE Federal Hwy, Stuart, FL 34994</td>\n",
       "    </tr>\n",
       "    <tr>\n",
       "      <th>105</th>\n",
       "      <td>Nice location. Some crews better than other. O...</td>\n",
       "      <td>4 stars</td>\n",
       "      <td>2294 SE Federal Hwy, Stuart, FL 34994</td>\n",
       "    </tr>\n",
       "    <tr>\n",
       "      <th>115</th>\n",
       "      <td>A nice, open plan Starbucks.</td>\n",
       "      <td>4 stars</td>\n",
       "      <td>2294 SE Federal Hwy, Stuart, FL 34994</td>\n",
       "    </tr>\n",
       "    <tr>\n",
       "      <th>129</th>\n",
       "      <td>The location is a little hard to get to becaus...</td>\n",
       "      <td>4 stars</td>\n",
       "      <td>2294 SE Federal Hwy, Stuart, FL 34994</td>\n",
       "    </tr>\n",
       "    <tr>\n",
       "      <th>137</th>\n",
       "      <td>Cashier/Server were courteous, patient and ver...</td>\n",
       "      <td>4 stars</td>\n",
       "      <td>2294 SE Federal Hwy, Stuart, FL 34994</td>\n",
       "    </tr>\n",
       "    <tr>\n",
       "      <th>144</th>\n",
       "      <td>Love a cold drink here and the new ipgraded st...</td>\n",
       "      <td>4 stars</td>\n",
       "      <td>2294 SE Federal Hwy, Stuart, FL 34994</td>\n",
       "    </tr>\n",
       "    <tr>\n",
       "      <th>145</th>\n",
       "      <td>Drive thru is very convenient. Only if your he...</td>\n",
       "      <td>4 stars</td>\n",
       "      <td>2294 SE Federal Hwy, Stuart, FL 34994</td>\n",
       "    </tr>\n",
       "    <tr>\n",
       "      <th>160</th>\n",
       "      <td>Nice and quick. Bathroom is clean! Nice music.</td>\n",
       "      <td>4 stars</td>\n",
       "      <td>2294 SE Federal Hwy, Stuart, FL 34994</td>\n",
       "    </tr>\n",
       "    <tr>\n",
       "      <th>180</th>\n",
       "      <td>Very good coffee ☕️</td>\n",
       "      <td>4 stars</td>\n",
       "      <td>2294 SE Federal Hwy, Stuart, FL 34994</td>\n",
       "    </tr>\n",
       "    <tr>\n",
       "      <th>187</th>\n",
       "      <td>Good coffee</td>\n",
       "      <td>4 stars</td>\n",
       "      <td>2294 SE Federal Hwy, Stuart, FL 34994</td>\n",
       "    </tr>\n",
       "  </tbody>\n",
       "</table>\n",
       "</div>"
      ],
      "text/plain": [
       "                                                review   rating  \\\n",
       "25   The entire team was friendly and courteous. Th...  4 stars   \n",
       "38   Service with a smile.  Candy was so attentive ...  4 stars   \n",
       "41   Love the team here! The only thing keeping thi...  4 stars   \n",
       "54   The staff was a little sassy but verry friendl...  4 stars   \n",
       "83   Always amazing! If you haven't tried the chest...  4 stars   \n",
       "89   Good place just make sure they hear your order...  4 stars   \n",
       "93   Very friendly and happy welcoming polite emplo...  4 stars   \n",
       "105  Nice location. Some crews better than other. O...  4 stars   \n",
       "115                       A nice, open plan Starbucks.  4 stars   \n",
       "129  The location is a little hard to get to becaus...  4 stars   \n",
       "137  Cashier/Server were courteous, patient and ver...  4 stars   \n",
       "144  Love a cold drink here and the new ipgraded st...  4 stars   \n",
       "145  Drive thru is very convenient. Only if your he...  4 stars   \n",
       "160     Nice and quick. Bathroom is clean! Nice music.  4 stars   \n",
       "180                                Very good coffee ☕️  4 stars   \n",
       "187                                        Good coffee  4 stars   \n",
       "\n",
       "                                   address  \n",
       "25   2294 SE Federal Hwy, Stuart, FL 34994  \n",
       "38   2294 SE Federal Hwy, Stuart, FL 34994  \n",
       "41   2294 SE Federal Hwy, Stuart, FL 34994  \n",
       "54   2294 SE Federal Hwy, Stuart, FL 34994  \n",
       "83   2294 SE Federal Hwy, Stuart, FL 34994  \n",
       "89   2294 SE Federal Hwy, Stuart, FL 34994  \n",
       "93   2294 SE Federal Hwy, Stuart, FL 34994  \n",
       "105  2294 SE Federal Hwy, Stuart, FL 34994  \n",
       "115  2294 SE Federal Hwy, Stuart, FL 34994  \n",
       "129  2294 SE Federal Hwy, Stuart, FL 34994  \n",
       "137  2294 SE Federal Hwy, Stuart, FL 34994  \n",
       "144  2294 SE Federal Hwy, Stuart, FL 34994  \n",
       "145  2294 SE Federal Hwy, Stuart, FL 34994  \n",
       "160  2294 SE Federal Hwy, Stuart, FL 34994  \n",
       "180  2294 SE Federal Hwy, Stuart, FL 34994  \n",
       "187  2294 SE Federal Hwy, Stuart, FL 34994  "
      ]
     },
     "execution_count": 18,
     "metadata": {},
     "output_type": "execute_result"
    }
   ],
   "source": [
    "df[df[\"rating\"] == \"4 stars\"]"
   ]
  },
  {
   "cell_type": "code",
   "execution_count": 43,
   "id": "b7d16fde-ae11-4162-bc90-4ac88af3ca10",
   "metadata": {},
   "outputs": [
    {
     "data": {
      "text/html": [
       "<div>\n",
       "<style scoped>\n",
       "    .dataframe tbody tr th:only-of-type {\n",
       "        vertical-align: middle;\n",
       "    }\n",
       "\n",
       "    .dataframe tbody tr th {\n",
       "        vertical-align: top;\n",
       "    }\n",
       "\n",
       "    .dataframe thead th {\n",
       "        text-align: right;\n",
       "    }\n",
       "</style>\n",
       "<table border=\"1\" class=\"dataframe\">\n",
       "  <thead>\n",
       "    <tr style=\"text-align: right;\">\n",
       "      <th></th>\n",
       "      <th>review</th>\n",
       "      <th>rating</th>\n",
       "    </tr>\n",
       "  </thead>\n",
       "  <tbody>\n",
       "    <tr>\n",
       "      <th>0</th>\n",
       "      <td>The absolute best Starbucks around. I get an i...</td>\n",
       "      <td>5 stars</td>\n",
       "    </tr>\n",
       "    <tr>\n",
       "      <th>1</th>\n",
       "      <td>The girl who took my order did it quickly and ...</td>\n",
       "      <td>5 stars</td>\n",
       "    </tr>\n",
       "    <tr>\n",
       "      <th>2</th>\n",
       "      <td>I've been coming here since 2013.  This is my ...</td>\n",
       "      <td>5 stars</td>\n",
       "    </tr>\n",
       "    <tr>\n",
       "      <th>3</th>\n",
       "      <td>Service was fine but the dirtiest Starbucks I ...</td>\n",
       "      <td>2 stars</td>\n",
       "    </tr>\n",
       "    <tr>\n",
       "      <th>4</th>\n",
       "      <td>I tried the pink drink for the first time, and...</td>\n",
       "      <td>5 stars</td>\n",
       "    </tr>\n",
       "    <tr>\n",
       "      <th>5</th>\n",
       "      <td>Arrived this morning to pick up a mobile order...</td>\n",
       "      <td>1 star</td>\n",
       "    </tr>\n",
       "  </tbody>\n",
       "</table>\n",
       "</div>"
      ],
      "text/plain": [
       "                                              review   rating\n",
       "0  The absolute best Starbucks around. I get an i...  5 stars\n",
       "1  The girl who took my order did it quickly and ...  5 stars\n",
       "2  I've been coming here since 2013.  This is my ...  5 stars\n",
       "3  Service was fine but the dirtiest Starbucks I ...  2 stars\n",
       "4  I tried the pink drink for the first time, and...  5 stars\n",
       "5  Arrived this morning to pick up a mobile order...   1 star"
      ]
     },
     "execution_count": 43,
     "metadata": {},
     "output_type": "execute_result"
    }
   ],
   "source": [
    "df.loc[:5, [\"review\",\"rating\"]]"
   ]
  },
  {
   "cell_type": "code",
   "execution_count": 20,
   "id": "888e0a72-b39e-4698-978d-60ed40327174",
   "metadata": {},
   "outputs": [],
   "source": [
    "# remove_alphabetic_chars(df_cp, \"rating\")"
   ]
  },
  {
   "cell_type": "code",
   "execution_count": 19,
   "id": "206aa7a0-d2f6-498c-9b93-73493274add3",
   "metadata": {},
   "outputs": [],
   "source": [
    "# remove_emojis(df_cp, \"review\")"
   ]
  },
  {
   "cell_type": "code",
   "execution_count": null,
   "id": "70ce2df0-274e-46a7-9ed4-826dd3e2a4b3",
   "metadata": {},
   "outputs": [],
   "source": []
  }
 ],
 "metadata": {
  "kernelspec": {
   "display_name": "Python 3 (ipykernel)",
   "language": "python",
   "name": "python3"
  },
  "language_info": {
   "codemirror_mode": {
    "name": "ipython",
    "version": 3
   },
   "file_extension": ".py",
   "mimetype": "text/x-python",
   "name": "python",
   "nbconvert_exporter": "python",
   "pygments_lexer": "ipython3",
   "version": "3.10.4"
  }
 },
 "nbformat": 4,
 "nbformat_minor": 5
}
