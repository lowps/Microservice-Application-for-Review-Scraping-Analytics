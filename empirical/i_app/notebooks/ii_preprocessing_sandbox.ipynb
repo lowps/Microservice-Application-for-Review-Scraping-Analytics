{
 "cells": [
  {
   "cell_type": "code",
   "execution_count": 1,
   "id": "35b0cf04",
   "metadata": {},
   "outputs": [],
   "source": [
    "import pandas as pd\n",
    "import numpy as np\n",
    "import os\n",
    "import sys\n",
    "from pathlib import Path\n",
    "import re "
   ]
  },
  {
   "cell_type": "code",
   "execution_count": 2,
   "id": "4574667f",
   "metadata": {},
   "outputs": [],
   "source": [
    "BASE_DIR = Path().resolve().parent.parent"
   ]
  },
  {
   "cell_type": "code",
   "execution_count": 3,
   "id": "2939d2c8",
   "metadata": {},
   "outputs": [],
   "source": [
    "path = '/Users/ericklopez/desktop/django_gun/empirical/data/processed/starbucks_location_processed3.csv'"
   ]
  },
  {
   "cell_type": "code",
   "execution_count": 4,
   "id": "89f80aba",
   "metadata": {},
   "outputs": [],
   "source": [
    "df = pd.read_csv(path)"
   ]
  },
  {
   "cell_type": "code",
   "execution_count": 5,
   "id": "d83246aa",
   "metadata": {},
   "outputs": [],
   "source": [
    "def extract_first_last(name: str) -> tuple[str, str]:\n",
    "    parts = name.strip().split()\n",
    "    if len(parts) >= 2:\n",
    "        first_name = parts[0].title()\n",
    "        last_name = parts[-1].title()\n",
    "        return first_name, last_name\n",
    "    elif len(parts) == 1:\n",
    "        return parts[0].title(), None\n",
    "    else:\n",
    "        return None, None"
   ]
  },
  {
   "cell_type": "code",
   "execution_count": 6,
   "id": "e39ce75f",
   "metadata": {},
   "outputs": [],
   "source": [
    "df[['first_name', 'last_name']] = df['review_author'].apply(extract_first_last).apply(pd.Series)"
   ]
  },
  {
   "cell_type": "code",
   "execution_count": 7,
   "id": "3f6e134f",
   "metadata": {},
   "outputs": [],
   "source": [
    "def parse_subcategory_ratings(s):\n",
    "    if not isinstance(s, str):\n",
    "        return pd.Series([None, None, None], index=['food_rating', 'service_rating', 'atmosphere_rating'])\n",
    "    \n",
    "    food = re.search(r'Food:(\\d+)', s)\n",
    "    service = re.search(r'Service:(\\d+)', s)\n",
    "    atmosphere = re.search(r'Atmosphere:(\\d+)', s)\n",
    "\n",
    "    return pd.Series([\n",
    "        int(food.group(1)) if food else None,\n",
    "        int(service.group(1)) if service else None,\n",
    "        int(atmosphere.group(1)) if atmosphere else None\n",
    "    ], index=['food_rating', 'service_rating', 'atmosphere_rating'])"
   ]
  },
  {
   "cell_type": "code",
   "execution_count": 8,
   "id": "df1ff953",
   "metadata": {},
   "outputs": [],
   "source": [
    "ratings = df['category_ratings'].apply(parse_subcategory_ratings)\n"
   ]
  },
  {
   "cell_type": "code",
   "execution_count": 9,
   "id": "c558ff6c",
   "metadata": {},
   "outputs": [],
   "source": [
    "df[['food_rating', 'service_rating', 'atmosphere_rating']] = ratings.astype('Int64')"
   ]
  },
  {
   "cell_type": "code",
   "execution_count": 10,
   "id": "ba7c7c0d",
   "metadata": {},
   "outputs": [],
   "source": [
    "def extract_address_parts(address: str) -> pd.Series:\n",
    "    pattern = r'^(.*),\\s*(.*),\\s*([A-Z]{2})\\s*(\\d{5})$'\n",
    "    match = re.match(pattern, address.strip()) if isinstance(address, str) else None\n",
    "    if match:\n",
    "        street, city, state, zip_code = match.groups()\n",
    "        return pd.Series({\n",
    "            'street': street.strip().upper(),\n",
    "            'city': city.strip().upper(),\n",
    "            'state': state.strip().upper(),\n",
    "            'zip': zip_code.strip()\n",
    "        })\n",
    "    else:\n",
    "        return pd.Series({'street': None, 'city': None, 'state': None, 'zip': None})"
   ]
  },
  {
   "cell_type": "code",
   "execution_count": 11,
   "id": "04262fcd",
   "metadata": {},
   "outputs": [],
   "source": [
    "df[['street', 'city', 'state', 'zip']] = df['business_address'].apply(extract_address_parts)\n"
   ]
  },
  {
   "cell_type": "code",
   "execution_count": 12,
   "id": "2f0e7569",
   "metadata": {},
   "outputs": [],
   "source": [
    "df.drop(columns= ['review_author', 'business_address', 'category_ratings'],inplace = True)"
   ]
  },
  {
   "cell_type": "code",
   "execution_count": null,
   "id": "aef4c648",
   "metadata": {},
   "outputs": [],
   "source": [
    "processed_file_path = \"/Users/ericklopez/Desktop/django_gun/empirical/data/final/starbucks_location_final3.csv\"\n"
   ]
  },
  {
   "cell_type": "code",
   "execution_count": null,
   "id": "497a789b",
   "metadata": {},
   "outputs": [],
   "source": [
    "df.to_csv(path_or_buf=processed_file_path)"
   ]
  },
  {
   "cell_type": "code",
   "execution_count": 13,
   "id": "c3a16fb6",
   "metadata": {},
   "outputs": [
    {
     "data": {
      "text/html": [
       "<div>\n",
       "<style scoped>\n",
       "    .dataframe tbody tr th:only-of-type {\n",
       "        vertical-align: middle;\n",
       "    }\n",
       "\n",
       "    .dataframe tbody tr th {\n",
       "        vertical-align: top;\n",
       "    }\n",
       "\n",
       "    .dataframe thead th {\n",
       "        text-align: right;\n",
       "    }\n",
       "</style>\n",
       "<table border=\"1\" class=\"dataframe\">\n",
       "  <thead>\n",
       "    <tr style=\"text-align: right;\">\n",
       "      <th></th>\n",
       "      <th>Unnamed: 0</th>\n",
       "      <th>review_date</th>\n",
       "      <th>review_rating</th>\n",
       "      <th>review_content</th>\n",
       "      <th>first_name</th>\n",
       "      <th>last_name</th>\n",
       "      <th>food_rating</th>\n",
       "      <th>service_rating</th>\n",
       "      <th>atmosphere_rating</th>\n",
       "      <th>street</th>\n",
       "      <th>city</th>\n",
       "      <th>state</th>\n",
       "      <th>zip</th>\n",
       "    </tr>\n",
       "  </thead>\n",
       "  <tbody>\n",
       "    <tr>\n",
       "      <th>0</th>\n",
       "      <td>0</td>\n",
       "      <td>2025-01-10</td>\n",
       "      <td>4</td>\n",
       "      <td>We were traveling from Miami to Tampa, and dur...</td>\n",
       "      <td>Nishant</td>\n",
       "      <td>Narula</td>\n",
       "      <td>4</td>\n",
       "      <td>4</td>\n",
       "      <td>4</td>\n",
       "      <td>3036 SW MARTIN DOWNS BLVD</td>\n",
       "      <td>PALM CITY</td>\n",
       "      <td>FL</td>\n",
       "      <td>34990</td>\n",
       "    </tr>\n",
       "    <tr>\n",
       "      <th>1</th>\n",
       "      <td>1</td>\n",
       "      <td>2025-03-11</td>\n",
       "      <td>1</td>\n",
       "      <td>The only reason why I am leaving a one star re...</td>\n",
       "      <td>Jessica</td>\n",
       "      <td>Morgan</td>\n",
       "      <td>&lt;NA&gt;</td>\n",
       "      <td>1</td>\n",
       "      <td>&lt;NA&gt;</td>\n",
       "      <td>3036 SW MARTIN DOWNS BLVD</td>\n",
       "      <td>PALM CITY</td>\n",
       "      <td>FL</td>\n",
       "      <td>34990</td>\n",
       "    </tr>\n",
       "    <tr>\n",
       "      <th>2</th>\n",
       "      <td>2</td>\n",
       "      <td>2025-02-09</td>\n",
       "      <td>1</td>\n",
       "      <td>The worst customer service I ever experienced,...</td>\n",
       "      <td>Alvorous</td>\n",
       "      <td>None</td>\n",
       "      <td>2</td>\n",
       "      <td>1</td>\n",
       "      <td>3</td>\n",
       "      <td>3036 SW MARTIN DOWNS BLVD</td>\n",
       "      <td>PALM CITY</td>\n",
       "      <td>FL</td>\n",
       "      <td>34990</td>\n",
       "    </tr>\n",
       "    <tr>\n",
       "      <th>3</th>\n",
       "      <td>3</td>\n",
       "      <td>2025-01-10</td>\n",
       "      <td>5</td>\n",
       "      <td>By far the best syarbucks in the area. I go ou...</td>\n",
       "      <td>Diana</td>\n",
       "      <td>Pitts</td>\n",
       "      <td>5</td>\n",
       "      <td>5</td>\n",
       "      <td>5</td>\n",
       "      <td>3036 SW MARTIN DOWNS BLVD</td>\n",
       "      <td>PALM CITY</td>\n",
       "      <td>FL</td>\n",
       "      <td>34990</td>\n",
       "    </tr>\n",
       "    <tr>\n",
       "      <th>4</th>\n",
       "      <td>4</td>\n",
       "      <td>2025-01-10</td>\n",
       "      <td>2</td>\n",
       "      <td>I ordered a Water and a cake pop and it took 2...</td>\n",
       "      <td>Drew</td>\n",
       "      <td>Weil</td>\n",
       "      <td>3</td>\n",
       "      <td>2</td>\n",
       "      <td>2</td>\n",
       "      <td>3036 SW MARTIN DOWNS BLVD</td>\n",
       "      <td>PALM CITY</td>\n",
       "      <td>FL</td>\n",
       "      <td>34990</td>\n",
       "    </tr>\n",
       "  </tbody>\n",
       "</table>\n",
       "</div>"
      ],
      "text/plain": [
       "   Unnamed: 0 review_date  review_rating  \\\n",
       "0           0  2025-01-10              4   \n",
       "1           1  2025-03-11              1   \n",
       "2           2  2025-02-09              1   \n",
       "3           3  2025-01-10              5   \n",
       "4           4  2025-01-10              2   \n",
       "\n",
       "                                      review_content first_name last_name  \\\n",
       "0  We were traveling from Miami to Tampa, and dur...    Nishant    Narula   \n",
       "1  The only reason why I am leaving a one star re...    Jessica    Morgan   \n",
       "2  The worst customer service I ever experienced,...   Alvorous      None   \n",
       "3  By far the best syarbucks in the area. I go ou...      Diana     Pitts   \n",
       "4  I ordered a Water and a cake pop and it took 2...       Drew      Weil   \n",
       "\n",
       "   food_rating  service_rating  atmosphere_rating                     street  \\\n",
       "0            4               4                  4  3036 SW MARTIN DOWNS BLVD   \n",
       "1         <NA>               1               <NA>  3036 SW MARTIN DOWNS BLVD   \n",
       "2            2               1                  3  3036 SW MARTIN DOWNS BLVD   \n",
       "3            5               5                  5  3036 SW MARTIN DOWNS BLVD   \n",
       "4            3               2                  2  3036 SW MARTIN DOWNS BLVD   \n",
       "\n",
       "        city state    zip  \n",
       "0  PALM CITY    FL  34990  \n",
       "1  PALM CITY    FL  34990  \n",
       "2  PALM CITY    FL  34990  \n",
       "3  PALM CITY    FL  34990  \n",
       "4  PALM CITY    FL  34990  "
      ]
     },
     "execution_count": 13,
     "metadata": {},
     "output_type": "execute_result"
    }
   ],
   "source": [
    "df.head()"
   ]
  },
  {
   "cell_type": "code",
   "execution_count": 14,
   "id": "38324dfa",
   "metadata": {},
   "outputs": [
    {
     "name": "stdout",
     "output_type": "stream",
     "text": [
      "<class 'pandas.core.frame.DataFrame'>\n",
      "RangeIndex: 380 entries, 0 to 379\n",
      "Data columns (total 13 columns):\n",
      " #   Column             Non-Null Count  Dtype \n",
      "---  ------             --------------  ----- \n",
      " 0   Unnamed: 0         380 non-null    int64 \n",
      " 1   review_date        380 non-null    object\n",
      " 2   review_rating      380 non-null    int64 \n",
      " 3   review_content     260 non-null    object\n",
      " 4   first_name         380 non-null    object\n",
      " 5   last_name          359 non-null    object\n",
      " 6   food_rating        58 non-null     Int64 \n",
      " 7   service_rating     73 non-null     Int64 \n",
      " 8   atmosphere_rating  68 non-null     Int64 \n",
      " 9   street             380 non-null    object\n",
      " 10  city               380 non-null    object\n",
      " 11  state              380 non-null    object\n",
      " 12  zip                380 non-null    object\n",
      "dtypes: Int64(3), int64(2), object(8)\n",
      "memory usage: 39.8+ KB\n"
     ]
    }
   ],
   "source": [
    "df.info()"
   ]
  },
  {
   "cell_type": "code",
   "execution_count": null,
   "id": "f95243f0",
   "metadata": {},
   "outputs": [],
   "source": []
  }
 ],
 "metadata": {
  "kernelspec": {
   "display_name": "venv",
   "language": "python",
   "name": "python3"
  },
  "language_info": {
   "codemirror_mode": {
    "name": "ipython",
    "version": 3
   },
   "file_extension": ".py",
   "mimetype": "text/x-python",
   "name": "python",
   "nbconvert_exporter": "python",
   "pygments_lexer": "ipython3",
   "version": "3.10.4"
  }
 },
 "nbformat": 4,
 "nbformat_minor": 5
}
