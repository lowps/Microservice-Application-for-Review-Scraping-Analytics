{
 "cells": [
  {
   "cell_type": "code",
   "execution_count": 3,
   "metadata": {},
   "outputs": [],
   "source": [
    "import pandas as pd\n",
    "import numpy as np\n",
    "import os\n",
    "import sys"
   ]
  },
  {
   "cell_type": "code",
   "execution_count": 4,
   "metadata": {},
   "outputs": [],
   "source": [
    "path1 = os.path.dirname(os.path.dirname(os.getcwd()))\n",
    "sys.path.insert(0, path1)"
   ]
  },
  {
   "cell_type": "code",
   "execution_count": 5,
   "metadata": {},
   "outputs": [],
   "source": [
    "from a_sourceCode.iii_data_pre_processing import *"
   ]
  },
  {
   "cell_type": "code",
   "execution_count": 6,
   "metadata": {},
   "outputs": [],
   "source": [
    "path = \"/Users/ericklopez/Desktop/django_gun/empirical/data/raw/starbucks_location_test2.csv\""
   ]
  },
  {
   "cell_type": "code",
   "execution_count": 7,
   "metadata": {},
   "outputs": [],
   "source": [
    "df= csv_to_df(path)"
   ]
  },
  {
   "cell_type": "code",
   "execution_count": 8,
   "metadata": {},
   "outputs": [],
   "source": [
    "df_copy = df.copy()"
   ]
  },
  {
   "cell_type": "code",
   "execution_count": 9,
   "metadata": {},
   "outputs": [
    {
     "data": {
      "text/html": [
       "<div>\n",
       "<style scoped>\n",
       "    .dataframe tbody tr th:only-of-type {\n",
       "        vertical-align: middle;\n",
       "    }\n",
       "\n",
       "    .dataframe tbody tr th {\n",
       "        vertical-align: top;\n",
       "    }\n",
       "\n",
       "    .dataframe thead th {\n",
       "        text-align: right;\n",
       "    }\n",
       "</style>\n",
       "<table border=\"1\" class=\"dataframe\">\n",
       "  <thead>\n",
       "    <tr style=\"text-align: right;\">\n",
       "      <th></th>\n",
       "      <th>business_address</th>\n",
       "      <th>review_author</th>\n",
       "      <th>review_date</th>\n",
       "      <th>review_rating</th>\n",
       "      <th>review_content</th>\n",
       "      <th>category_ratings</th>\n",
       "    </tr>\n",
       "  </thead>\n",
       "  <tbody>\n",
       "    <tr>\n",
       "      <th>0</th>\n",
       "      <td>2294 SE Federal Hwy, Stuart, FL 34994</td>\n",
       "      <td>Tishin</td>\n",
       "      <td>2025-05-23</td>\n",
       "      <td>5</td>\n",
       "      <td>Taking the new \"write on the cup\" policy to an...</td>\n",
       "      <td>Food:5 | Service:5 | Atmosphere:5</td>\n",
       "    </tr>\n",
       "    <tr>\n",
       "      <th>1</th>\n",
       "      <td>2294 SE Federal Hwy, Stuart, FL 34994</td>\n",
       "      <td>kevan carmichael</td>\n",
       "      <td>2025-05-23</td>\n",
       "      <td>2</td>\n",
       "      <td>Hit the drive thru for a quick breakfast, orde...</td>\n",
       "      <td>Food:2 | Service:5 | Atmosphere:5</td>\n",
       "    </tr>\n",
       "    <tr>\n",
       "      <th>2</th>\n",
       "      <td>2294 SE Federal Hwy, Stuart, FL 34994</td>\n",
       "      <td>Paperless Pierre Smith</td>\n",
       "      <td>2025-05-07</td>\n",
       "      <td>5</td>\n",
       "      <td>Great staff. A mist stop after my bike rides w...</td>\n",
       "      <td>Food:5 | Service:5 | Atmosphere:5</td>\n",
       "    </tr>\n",
       "    <tr>\n",
       "      <th>3</th>\n",
       "      <td>2294 SE Federal Hwy, Stuart, FL 34994</td>\n",
       "      <td>Frank A Farren</td>\n",
       "      <td>2025-05-07</td>\n",
       "      <td>5</td>\n",
       "      <td>Starbucks is always five stars! This one had q...</td>\n",
       "      <td>Food:5 | Service:5 | Atmosphere:5</td>\n",
       "    </tr>\n",
       "    <tr>\n",
       "      <th>4</th>\n",
       "      <td>2294 SE Federal Hwy, Stuart, FL 34994</td>\n",
       "      <td>Derek Rottwell</td>\n",
       "      <td>2025-03-08</td>\n",
       "      <td>1</td>\n",
       "      <td>While in the area I visited this establishment...</td>\n",
       "      <td>NaN</td>\n",
       "    </tr>\n",
       "  </tbody>\n",
       "</table>\n",
       "</div>"
      ],
      "text/plain": [
       "                        business_address           review_author review_date  \\\n",
       "0  2294 SE Federal Hwy, Stuart, FL 34994                  Tishin  2025-05-23   \n",
       "1  2294 SE Federal Hwy, Stuart, FL 34994        kevan carmichael  2025-05-23   \n",
       "2  2294 SE Federal Hwy, Stuart, FL 34994  Paperless Pierre Smith  2025-05-07   \n",
       "3  2294 SE Federal Hwy, Stuart, FL 34994          Frank A Farren  2025-05-07   \n",
       "4  2294 SE Federal Hwy, Stuart, FL 34994          Derek Rottwell  2025-03-08   \n",
       "\n",
       "   review_rating                                     review_content  \\\n",
       "0              5  Taking the new \"write on the cup\" policy to an...   \n",
       "1              2  Hit the drive thru for a quick breakfast, orde...   \n",
       "2              5  Great staff. A mist stop after my bike rides w...   \n",
       "3              5  Starbucks is always five stars! This one had q...   \n",
       "4              1  While in the area I visited this establishment...   \n",
       "\n",
       "                    category_ratings  \n",
       "0  Food:5 | Service:5 | Atmosphere:5  \n",
       "1  Food:2 | Service:5 | Atmosphere:5  \n",
       "2  Food:5 | Service:5 | Atmosphere:5  \n",
       "3  Food:5 | Service:5 | Atmosphere:5  \n",
       "4                                NaN  "
      ]
     },
     "execution_count": 9,
     "metadata": {},
     "output_type": "execute_result"
    }
   ],
   "source": [
    "df_copy.head()"
   ]
  },
  {
   "cell_type": "code",
   "execution_count": 10,
   "metadata": {},
   "outputs": [
    {
     "data": {
      "text/plain": [
       "Index(['business_address', 'review_author', 'review_date', 'review_rating',\n",
       "       'review_content', 'category_ratings'],\n",
       "      dtype='object')"
      ]
     },
     "execution_count": 10,
     "metadata": {},
     "output_type": "execute_result"
    }
   ],
   "source": [
    "df_copy.columns"
   ]
  },
  {
   "cell_type": "code",
   "execution_count": 11,
   "metadata": {},
   "outputs": [
    {
     "name": "stdout",
     "output_type": "stream",
     "text": [
      "<class 'pandas.core.frame.DataFrame'>\n",
      "RangeIndex: 320 entries, 0 to 319\n",
      "Data columns (total 6 columns):\n",
      " #   Column            Non-Null Count  Dtype \n",
      "---  ------            --------------  ----- \n",
      " 0   business_address  320 non-null    object\n",
      " 1   review_author     320 non-null    object\n",
      " 2   review_date       320 non-null    object\n",
      " 3   review_rating     320 non-null    int64 \n",
      " 4   review_content    320 non-null    object\n",
      " 5   category_ratings  53 non-null     object\n",
      "dtypes: int64(1), object(5)\n",
      "memory usage: 15.1+ KB\n"
     ]
    }
   ],
   "source": [
    "df_copy.info()"
   ]
  },
  {
   "cell_type": "code",
   "execution_count": null,
   "metadata": {},
   "outputs": [],
   "source": []
  },
  {
   "cell_type": "code",
   "execution_count": 6,
   "metadata": {},
   "outputs": [],
   "source": [
    "def remove_text(df: pd.DataFrame, column: str, target_text: list, replacement_str: str=\"\") -> pd.DataFrame:\n",
    "    \"\"\"\n",
    "    Removes specified target text from a column in a DataFrame.\n",
    "\n",
    "    Parameters:\n",
    "    df (pd.DataFrame): The DataFrame to modify.\n",
    "    column (str): The name of the column to apply text removal to.\n",
    "    target_text (list): A list of substrings to remove from the column.\n",
    "    replacement_str (str, optional): The string to replace the target text with (default is an empty string).\n",
    "\n",
    "    Returns:\n",
    "    pd.DataFrame: The modified DataFrame with target text removed from the specified column.\n",
    "    \"\"\"\n",
    "    for target in target_text:\n",
    "        df[column] = df[column].apply(lambda x: str(x).replace(target, replacement_str).strip())\n",
    "    return df"
   ]
  },
  {
   "cell_type": "code",
   "execution_count": 12,
   "metadata": {},
   "outputs": [
    {
     "data": {
      "text/html": [
       "<div>\n",
       "<style scoped>\n",
       "    .dataframe tbody tr th:only-of-type {\n",
       "        vertical-align: middle;\n",
       "    }\n",
       "\n",
       "    .dataframe tbody tr th {\n",
       "        vertical-align: top;\n",
       "    }\n",
       "\n",
       "    .dataframe thead th {\n",
       "        text-align: right;\n",
       "    }\n",
       "</style>\n",
       "<table border=\"1\" class=\"dataframe\">\n",
       "  <thead>\n",
       "    <tr style=\"text-align: right;\">\n",
       "      <th></th>\n",
       "      <th>business_address</th>\n",
       "      <th>review_author</th>\n",
       "      <th>review_date</th>\n",
       "      <th>review_rating</th>\n",
       "      <th>review_content</th>\n",
       "      <th>category_ratings</th>\n",
       "    </tr>\n",
       "  </thead>\n",
       "  <tbody>\n",
       "    <tr>\n",
       "      <th>0</th>\n",
       "      <td>2294 SE Federal Hwy, Stuart, FL 34994</td>\n",
       "      <td>Tishin</td>\n",
       "      <td>2025-05-23</td>\n",
       "      <td>5</td>\n",
       "      <td>Taking the new \"write on the cup\" policy to an...</td>\n",
       "      <td>Food:5 | Service:5 | Atmosphere:5</td>\n",
       "    </tr>\n",
       "    <tr>\n",
       "      <th>1</th>\n",
       "      <td>2294 SE Federal Hwy, Stuart, FL 34994</td>\n",
       "      <td>kevan carmichael</td>\n",
       "      <td>2025-05-23</td>\n",
       "      <td>2</td>\n",
       "      <td>Hit the drive thru for a quick breakfast, orde...</td>\n",
       "      <td>Food:2 | Service:5 | Atmosphere:5</td>\n",
       "    </tr>\n",
       "    <tr>\n",
       "      <th>2</th>\n",
       "      <td>2294 SE Federal Hwy, Stuart, FL 34994</td>\n",
       "      <td>Paperless Pierre Smith</td>\n",
       "      <td>2025-05-07</td>\n",
       "      <td>5</td>\n",
       "      <td>Great staff. A mist stop after my bike rides w...</td>\n",
       "      <td>Food:5 | Service:5 | Atmosphere:5</td>\n",
       "    </tr>\n",
       "    <tr>\n",
       "      <th>3</th>\n",
       "      <td>2294 SE Federal Hwy, Stuart, FL 34994</td>\n",
       "      <td>Frank A Farren</td>\n",
       "      <td>2025-05-07</td>\n",
       "      <td>5</td>\n",
       "      <td>Starbucks is always five stars! This one had q...</td>\n",
       "      <td>Food:5 | Service:5 | Atmosphere:5</td>\n",
       "    </tr>\n",
       "    <tr>\n",
       "      <th>4</th>\n",
       "      <td>2294 SE Federal Hwy, Stuart, FL 34994</td>\n",
       "      <td>Derek Rottwell</td>\n",
       "      <td>2025-03-08</td>\n",
       "      <td>1</td>\n",
       "      <td>While in the area I visited this establishment...</td>\n",
       "      <td>NaN</td>\n",
       "    </tr>\n",
       "  </tbody>\n",
       "</table>\n",
       "</div>"
      ],
      "text/plain": [
       "                        business_address           review_author review_date  \\\n",
       "0  2294 SE Federal Hwy, Stuart, FL 34994                  Tishin  2025-05-23   \n",
       "1  2294 SE Federal Hwy, Stuart, FL 34994        kevan carmichael  2025-05-23   \n",
       "2  2294 SE Federal Hwy, Stuart, FL 34994  Paperless Pierre Smith  2025-05-07   \n",
       "3  2294 SE Federal Hwy, Stuart, FL 34994          Frank A Farren  2025-05-07   \n",
       "4  2294 SE Federal Hwy, Stuart, FL 34994          Derek Rottwell  2025-03-08   \n",
       "\n",
       "   review_rating                                     review_content  \\\n",
       "0              5  Taking the new \"write on the cup\" policy to an...   \n",
       "1              2  Hit the drive thru for a quick breakfast, orde...   \n",
       "2              5  Great staff. A mist stop after my bike rides w...   \n",
       "3              5  Starbucks is always five stars! This one had q...   \n",
       "4              1  While in the area I visited this establishment...   \n",
       "\n",
       "                    category_ratings  \n",
       "0  Food:5 | Service:5 | Atmosphere:5  \n",
       "1  Food:2 | Service:5 | Atmosphere:5  \n",
       "2  Food:5 | Service:5 | Atmosphere:5  \n",
       "3  Food:5 | Service:5 | Atmosphere:5  \n",
       "4                                NaN  "
      ]
     },
     "execution_count": 12,
     "metadata": {},
     "output_type": "execute_result"
    }
   ],
   "source": [
    "df_copy.head()"
   ]
  },
  {
   "cell_type": "code",
   "execution_count": 13,
   "metadata": {},
   "outputs": [],
   "source": [
    "df_copy = remove_emojis(df_copy, 'review_content')"
   ]
  },
  {
   "cell_type": "code",
   "execution_count": 14,
   "metadata": {},
   "outputs": [
    {
     "data": {
      "text/plain": [
       "business_address      0\n",
       "review_author         0\n",
       "review_date           0\n",
       "review_rating         0\n",
       "review_content        0\n",
       "category_ratings    302\n",
       "dtype: int64"
      ]
     },
     "execution_count": 14,
     "metadata": {},
     "output_type": "execute_result"
    }
   ],
   "source": [
    "df_copy.isnull().sum()"
   ]
  },
  {
   "cell_type": "code",
   "execution_count": 16,
   "metadata": {},
   "outputs": [],
   "source": [
    "processed_file_path = '/Users/ericklopez/Desktop/django_gun/empirical/data/processed/starbucks_location_processed.csv'\n",
    "df_copy.to_csv(path_or_buf= processed_file_path)"
   ]
  }
 ],
 "metadata": {
  "kernelspec": {
   "display_name": "venv",
   "language": "python",
   "name": "python3"
  },
  "language_info": {
   "codemirror_mode": {
    "name": "ipython",
    "version": 3
   },
   "file_extension": ".py",
   "mimetype": "text/x-python",
   "name": "python",
   "nbconvert_exporter": "python",
   "pygments_lexer": "ipython3",
   "version": "3.10.4"
  }
 },
 "nbformat": 4,
 "nbformat_minor": 2
}
