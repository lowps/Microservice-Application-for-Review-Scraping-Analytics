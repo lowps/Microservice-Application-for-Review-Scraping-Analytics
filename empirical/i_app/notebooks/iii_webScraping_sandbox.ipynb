{
 "cells": [
  {
   "cell_type": "code",
   "execution_count": 29,
   "id": "865fb8fd",
   "metadata": {},
   "outputs": [],
   "source": [
    "import os\n",
    "import sys\n",
    "import django\n",
    "import pandas as pd\n",
    "from django.db import transaction\n",
    "from django.core.management.base import BaseCommand\n",
    "\n"
   ]
  },
  {
   "cell_type": "code",
   "execution_count": 3,
   "id": "e4035df3",
   "metadata": {},
   "outputs": [],
   "source": [
    "path = os.path.dirname(os.path.dirname(os.getcwd()))\n",
    "sys.path.insert(0, path)"
   ]
  },
  {
   "cell_type": "code",
   "execution_count": 6,
   "id": "661303ed",
   "metadata": {},
   "outputs": [],
   "source": [
    "from a_sourceCode.i_web_scraper import *\n",
    "from a_sourceCode.ii_stage_data import *\n",
    "from i_app.app.settings import local "
   ]
  },
  {
   "cell_type": "code",
   "execution_count": 7,
   "id": "5a54ff96",
   "metadata": {},
   "outputs": [
    {
     "data": {
      "text/plain": [
       "'app.settings.local'"
      ]
     },
     "execution_count": 7,
     "metadata": {},
     "output_type": "execute_result"
    }
   ],
   "source": [
    "os.environ.setdefault(\"DJANGO_SETTINGS_MODULE\", \"i_app.app.settings.local.py\")"
   ]
  },
  {
   "cell_type": "code",
   "execution_count": 10,
   "id": "792bdb41-c805-4b28-8c7b-0758a4c7b213",
   "metadata": {},
   "outputs": [],
   "source": [
    "django.setup()"
   ]
  },
  {
   "cell_type": "code",
   "execution_count": 26,
   "id": "92b57f68",
   "metadata": {},
   "outputs": [],
   "source": [
    "from starbuck.models import *"
   ]
  },
  {
   "cell_type": "code",
   "execution_count": 30,
   "id": "bcfae8e2",
   "metadata": {},
   "outputs": [],
   "source": [
    "class Command(BaseCommand):\n",
    "    help = 'Import Starbucks reviews from processed CSV file'\n",
    "\n",
    "    def add_arguments(self, parser):\n",
    "        parser.add_argument('file_path', type=str, help='Path to the processed CSV file')\n",
    "\n",
    "    def handle(self, *args, **options):\n",
    "        # Load and prepare the DataFrame\n",
    "        df = pd.read_csv(options['file_path'])\n",
    "        df.sort_values(by=\"review_date\", ascending=False, inplace=True)\n",
    "        \n",
    "        # Import the data\n",
    "        self.import_data(df)\n",
    "\n",
    "    def import_data(self, df):\n",
    "        total_rows = len(df)\n",
    "        success_count = 0\n",
    "        \n",
    "        with transaction.atomic():\n",
    "            for index, row in df.iterrows():\n",
    "                try:\n",
    "                    # Prepare review data\n",
    "                    review_data = {\n",
    "                    \"review_content\": row.get(\"review_content\"),\n",
    "                    \"review_rating\": int(float(row.get(\"review_rating\", 0))),  # Convert to integer\n",
    "                    \"review_author\": row.get(\"review_author\"),\n",
    "                    \"review_date\": row.get(\"review_date\"),\n",
    "                    \"category_ratings\": row.get(\"category_ratings\", \"\"),\n",
    "                }\n",
    "                    \n",
    "                    # Validate required fields\n",
    "                    if not all([review_data[\"review_content\"], review_data[\"review_rating\"]]):\n",
    "                        self.stdout.write(self.style.WARNING(\n",
    "                            f\"Skipping row {index}: Missing required fields\"\n",
    "                        ))\n",
    "                        continue\n",
    "                    \n",
    "                    address = row.get(\"business_address\")\n",
    "                    if not address:\n",
    "                        self.stdout.write(self.style.WARNING(\n",
    "                            f\"Skipping row {index}: Missing address\"\n",
    "                        ))\n",
    "                        continue\n",
    "                    \n",
    "                    # Create the records\n",
    "                    result = ProductScrapeEvent.objects.create_scrape_event(\n",
    "                        data=[review_data],\n",
    "                        address=address\n",
    "                    )\n",
    "                    \n",
    "                    if result:\n",
    "                        success_count += 1\n",
    "                    \n",
    "                    # Progress feedback\n",
    "                    if (index + 1) % 100 == 0:\n",
    "                        self.stdout.write(f\"Processed {index + 1}/{total_rows} rows...\")\n",
    "                        \n",
    "                except Exception as e:\n",
    "                    self.stdout.write(self.style.ERROR(\n",
    "                        f\"Error on row {index}: {str(e)}\"\n",
    "                    ))\n",
    "                    continue\n",
    "        \n",
    "        # Final report\n",
    "        self.stdout.write(self.style.SUCCESS(\n",
    "            f\"Import complete! Successfully imported {success_count}/{total_rows} reviews\"\n",
    "        ))\n"
   ]
  },
  {
   "cell_type": "code",
   "execution_count": 11,
   "id": "8fa794a4",
   "metadata": {},
   "outputs": [],
   "source": [
    "path = \"/Users/ericklopez/desktop/django_gun/empirical/data/processed/starbucks_location_processed.csv\""
   ]
  },
  {
   "cell_type": "code",
   "execution_count": 14,
   "id": "61e8e555",
   "metadata": {},
   "outputs": [],
   "source": [
    "df = pd.read_csv(path)"
   ]
  },
  {
   "cell_type": "code",
   "execution_count": 22,
   "id": "c728ed04",
   "metadata": {},
   "outputs": [],
   "source": [
    "df.sort_values(by= \"review_date\",ascending=False, inplace=True)"
   ]
  },
  {
   "cell_type": "code",
   "execution_count": 28,
   "id": "5cfb9172",
   "metadata": {},
   "outputs": [
    {
     "data": {
      "text/plain": [
       "Index(['Unnamed: 0', 'business_address', 'review_author', 'review_date',\n",
       "       'review_rating', 'review_content', 'category_ratings'],\n",
       "      dtype='object')"
      ]
     },
     "execution_count": 28,
     "metadata": {},
     "output_type": "execute_result"
    }
   ],
   "source": [
    "df.columns"
   ]
  },
  {
   "cell_type": "code",
   "execution_count": null,
   "id": "bf63e1ed",
   "metadata": {},
   "outputs": [],
   "source": []
  },
  {
   "cell_type": "code",
   "execution_count": null,
   "id": "0a8ddd2a",
   "metadata": {},
   "outputs": [],
   "source": []
  },
  {
   "cell_type": "code",
   "execution_count": null,
   "id": "a06de198",
   "metadata": {},
   "outputs": [],
   "source": []
  }
 ],
 "metadata": {
  "kernelspec": {
   "display_name": "venv",
   "language": "python",
   "name": "python3"
  },
  "language_info": {
   "codemirror_mode": {
    "name": "ipython",
    "version": 3
   },
   "file_extension": ".py",
   "mimetype": "text/x-python",
   "name": "python",
   "nbconvert_exporter": "python",
   "pygments_lexer": "ipython3",
   "version": "3.10.4"
  }
 },
 "nbformat": 4,
 "nbformat_minor": 5
}
